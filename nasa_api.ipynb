{
 "cells": [
  {
   "cell_type": "markdown",
   "metadata": {},
   "source": [
    "Nasa API"
   ]
  },
  {
   "cell_type": "code",
   "execution_count": 1,
   "metadata": {},
   "outputs": [],
   "source": [
    "# installing the necessary libraries\n",
    "import requests\n",
    "import os\n",
    "import PyPDF2\n",
    "from fpdf import FPDF\n",
    "import json\n",
    "import requests\n",
    "from datetime import date, datetime\n",
    "import pandas as pd"
   ]
  },
  {
   "cell_type": "code",
   "execution_count": 1,
   "metadata": {},
   "outputs": [],
   "source": [
    "# initializing a variable to call back to it later on using F Strings\n",
    "api_key = open('api_key.txt').read().strip()"
   ]
  },
  {
   "cell_type": "code",
   "execution_count": 3,
   "metadata": {},
   "outputs": [
    {
     "name": "stdout",
     "output_type": "stream",
     "text": [
      "2024-07-12\n"
     ]
    }
   ],
   "source": [
    "today = date.today()\n",
    "print(today)"
   ]
  },
  {
   "cell_type": "code",
   "execution_count": 4,
   "metadata": {},
   "outputs": [
    {
     "name": "stdout",
     "output_type": "stream",
     "text": [
      "{'copyright': 'Team OURANOS', 'date': '2024-07-12', 'explanation': \"Planetary nebula Jones-Emberson 1 is the death shroud of a dying Sun-like star. It lies some 1,600 light-years from Earth toward the sharp-eyed constellation Lynx. About 4 light-years across, the expanding remnant of the dying star's atmosphere was shrugged off into interstellar space, as the star's central supply of hydrogen and then helium for fusion was depleted after billions of years. Visible near the center of the planetary nebula is what remains of the stellar core, a blue-hot white dwarf star.  Also known as PK 164 +31.1, the nebula is faint and very difficult to glimpse at a telescope's eyepiece. But this deep image combining over 12 hours of exposure time does show it off in exceptional detail. Stars within our own Milky Way galaxy as well as background galaxies across the universe are scattered through the clear field of view. Ephemeral on the cosmic stage, Jones-Emberson 1 will fade away over the next few thousand years. Its hot, central white dwarf star will take billions of years to cool.\", 'hdurl': 'https://apod.nasa.gov/apod/image/2407/PK164_vdef3.jpg', 'media_type': 'image', 'service_version': 'v1', 'title': 'Jones-Emberson 1', 'url': 'https://apod.nasa.gov/apod/image/2407/PK164_vdef3_1024.jpg'}\n"
     ]
    }
   ],
   "source": [
    "# practicing calling the API and turning the output into JSON\n",
    "url = f'https://api.nasa.gov/planetary/apod?api_key={api_key}&date={today}'\n",
    "data = requests.get(url)\n",
    "\n",
    "data = data.json()\n",
    "print(data)"
   ]
  },
  {
   "cell_type": "code",
   "execution_count": 5,
   "metadata": {},
   "outputs": [],
   "source": [
    "url_data = data['url']\n",
    "url_description = data['explanation']\n",
    "description_text = f'{today}.txt'\n",
    "image_jpg = f'{today}.jpg'\n",
    "\n",
    "image_response = requests.get(url_data).content\n",
    "\n",
    "# obtaining the image from the api\n",
    "with open(image_jpg, 'wb') as handler: \n",
    "    handler.write(image_response)\n",
    "\n",
    "# getting the description of the image\n",
    "with open(description_text, 'w') as description: \n",
    "    description.write(url_description)"
   ]
  },
  {
   "cell_type": "markdown",
   "metadata": {},
   "source": [
    "Creating a PDF of the description followed by the image"
   ]
  },
  {
   "cell_type": "code",
   "execution_count": 6,
   "metadata": {},
   "outputs": [
    {
     "data": {
      "text/plain": [
       "''"
      ]
     },
     "execution_count": 6,
     "metadata": {},
     "output_type": "execute_result"
    }
   ],
   "source": [
    "pdf = FPDF() # creating a PDF file variable\n",
    "pdf.add_page() # adding a pdf page\n",
    "pdf.set_font(family= 'Times', size = 13) # editing the font\n",
    "with open(description_text, 'r') as f: # opening the text file so that we can extract the content, R argument to read the content\n",
    "    content_description = f.read()\n",
    "\n",
    "pdf.multi_cell(0, 10, content_description) # printing out multiple cells because it requires multiple lines \n",
    "\n",
    "pdf.image(image_jpg, w = 190, h = 150, link = url_data) # adding the image from the JSON\n",
    " \n",
    "pdf.output(f'{today}.pdf') # creating the final output"
   ]
  },
  {
   "cell_type": "markdown",
   "metadata": {},
   "source": [
    "Getting multiple JSON outputs to CSV"
   ]
  },
  {
   "cell_type": "code",
   "execution_count": 90,
   "metadata": {},
   "outputs": [
    {
     "name": "stdout",
     "output_type": "stream",
     "text": [
      "['2024-04-04', '2024-04-05', '2024-04-06', '2024-04-07', '2024-04-08', '2024-04-09', '2024-04-10', '2024-04-11', '2024-04-12', '2024-04-13', '2024-04-14', '2024-04-15', '2024-04-16', '2024-04-17', '2024-04-18', '2024-04-19', '2024-04-20', '2024-04-21', '2024-04-22', '2024-04-23', '2024-04-24', '2024-04-25', '2024-04-26', '2024-04-27', '2024-04-28', '2024-04-29', '2024-04-30', '2024-05-01', '2024-05-02', '2024-05-03', '2024-05-04', '2024-05-05', '2024-05-06', '2024-05-07', '2024-05-08', '2024-05-09', '2024-05-10', '2024-05-11', '2024-05-12', '2024-05-13', '2024-05-14', '2024-05-15', '2024-05-16', '2024-05-17', '2024-05-18', '2024-05-19', '2024-05-20', '2024-05-21', '2024-05-22', '2024-05-23', '2024-05-24', '2024-05-25', '2024-05-26', '2024-05-27', '2024-05-28', '2024-05-29', '2024-05-30', '2024-05-31', '2024-06-01', '2024-06-02', '2024-06-03', '2024-06-04', '2024-06-05', '2024-06-06', '2024-06-07', '2024-06-08', '2024-06-09', '2024-06-10', '2024-06-11', '2024-06-12', '2024-06-13', '2024-06-14', '2024-06-15', '2024-06-16', '2024-06-17', '2024-06-18', '2024-06-19', '2024-06-20', '2024-06-21', '2024-06-22', '2024-06-23', '2024-06-24', '2024-06-25', '2024-06-26', '2024-06-27', '2024-06-28', '2024-06-29', '2024-06-30', '2024-07-01', '2024-07-02', '2024-07-03', '2024-07-04', '2024-07-05', '2024-07-06', '2024-07-07', '2024-07-08', '2024-07-09', '2024-07-10', '2024-07-11', '2024-07-12']\n"
     ]
    }
   ],
   "source": [
    "dateDF = pd.date_range(end=today, periods= 100, name='Date') # getting a date range using pandas built-in function, output is DateTimeIndex\n",
    "dateDF = pd.DataFrame(date_range) # turning output into a DataFrame \n",
    "dateDF['just_date'] = date_range['Date'].dt.strftime('%Y-%m-%d')\n",
    "\n",
    "dateList = dateDF['just_date'].tolist()\n",
    "\n",
    "print(dateList)"
   ]
  },
  {
   "cell_type": "code",
   "execution_count": 94,
   "metadata": {},
   "outputs": [],
   "source": [
    "total_df = []\n",
    "\n",
    "for date in dateList:\n",
    "    urlDF = f'https://api.nasa.gov/planetary/apod?api_key={api_key}&date={date}'\n",
    "    response = requests.get(urlDF)\n",
    "    dataDict = response.json()\n",
    "    \n",
    "    total_df.append(dataDict)\n",
    "    \n",
    "df = pd.DataFrame(total_df)\n",
    "df.to_csv('output.csv')"
   ]
  }
 ],
 "metadata": {
  "kernelspec": {
   "display_name": "Python 3",
   "language": "python",
   "name": "python3"
  },
  "language_info": {
   "codemirror_mode": {
    "name": "ipython",
    "version": 3
   },
   "file_extension": ".py",
   "mimetype": "text/x-python",
   "name": "python",
   "nbconvert_exporter": "python",
   "pygments_lexer": "ipython3",
   "version": "3.12.4"
  }
 },
 "nbformat": 4,
 "nbformat_minor": 2
}
